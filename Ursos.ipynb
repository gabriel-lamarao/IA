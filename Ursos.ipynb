{
 "cells": [
  {
   "cell_type": "code",
   "execution_count": null,
   "id": "e3d91208",
   "metadata": {
    "gradient": {
     "editing": false,
     "id": "e3d91208",
     "kernelId": ""
    }
   },
   "outputs": [],
   "source": [
    "#hide\n",
    "!pip install -Uqq fastbook\n",
    "import fastbook\n",
    "fastbook.setup_book()"
   ]
  },
  {
   "cell_type": "code",
   "execution_count": null,
   "id": "06fa9dca",
   "metadata": {
    "gradient": {
     "editing": false,
     "id": "06fa9dca",
     "kernelId": ""
    }
   },
   "outputs": [],
   "source": [
    "#hide\n",
    "from fastbook import *\n",
    "from fastai.vision.widgets import *"
   ]
  },
  {
   "cell_type": "code",
   "execution_count": null,
   "id": "d601ef07",
   "metadata": {
    "gradient": {
     "editing": false,
     "id": "d601ef07",
     "kernelId": ""
    }
   },
   "outputs": [
    {
     "name": "stdout",
     "output_type": "stream",
     "text": [
      "Collecting voila\r\n"
     ]
    },
    {
     "name": "stdout",
     "output_type": "stream",
     "text": [
      "  Downloading voila-0.3.1-py3-none-any.whl (1.7 MB)\r\n",
      "\u001b[?25l\r",
      "\u001b[K     |▏                               | 10 kB 24.9 MB/s eta 0:00:01\r",
      "\u001b[K     |▍                               | 20 kB 31.5 MB/s eta 0:00:01\r",
      "\u001b[K     |▋                               | 30 kB 35.9 MB/s eta 0:00:01\r",
      "\u001b[K     |▉                               | 40 kB 20.9 MB/s eta 0:00:01\r",
      "\u001b[K     |█                               | 51 kB 23.5 MB/s eta 0:00:01\r",
      "\u001b[K     |█▏                              | 61 kB 21.5 MB/s eta 0:00:01\r",
      "\u001b[K     |█▍                              | 71 kB 19.9 MB/s eta 0:00:01\r",
      "\u001b[K     |█▋                              | 81 kB 22.0 MB/s eta 0:00:01\r",
      "\u001b[K     |█▊                              | 92 kB 23.7 MB/s eta 0:00:01\r",
      "\u001b[K     |██                              | 102 kB 22.5 MB/s eta 0:00:01\r",
      "\u001b[K     |██▏                             | 112 kB 22.5 MB/s eta 0:00:01\r",
      "\u001b[K     |██▍                             | 122 kB 22.5 MB/s eta 0:00:01\r",
      "\u001b[K     |██▋                             | 133 kB 22.5 MB/s eta 0:00:01\r",
      "\u001b[K     |██▊                             | 143 kB 22.5 MB/s eta 0:00:01\r",
      "\u001b[K     |███                             | 153 kB 22.5 MB/s eta 0:00:01\r",
      "\u001b[K     |███▏                            | 163 kB 22.5 MB/s eta 0:00:01\r",
      "\u001b[K     |███▍                            | 174 kB 22.5 MB/s eta 0:00:01\r",
      "\u001b[K     |███▌                            | 184 kB 22.5 MB/s eta 0:00:01\r",
      "\u001b[K     |███▊                            | 194 kB 22.5 MB/s eta 0:00:01\r",
      "\u001b[K     |████                            | 204 kB 22.5 MB/s eta 0:00:01\r",
      "\u001b[K     |████▏                           | 215 kB 22.5 MB/s eta 0:00:01\r",
      "\u001b[K     |████▍                           | 225 kB 22.5 MB/s eta 0:00:01\r",
      "\u001b[K     |████▌                           | 235 kB 22.5 MB/s eta 0:00:01\r",
      "\u001b[K     |████▊                           | 245 kB 22.5 MB/s eta 0:00:01\r",
      "\u001b[K     |█████                           | 256 kB 22.5 MB/s eta 0:00:01\r",
      "\u001b[K     |█████▏                          | 266 kB 22.5 MB/s eta 0:00:01\r",
      "\u001b[K     |█████▎                          | 276 kB 22.5 MB/s eta 0:00:01\r",
      "\u001b[K     |█████▌                          | 286 kB 22.5 MB/s eta 0:00:01\r",
      "\u001b[K     |█████▊                          | 296 kB 22.5 MB/s eta 0:00:01\r",
      "\u001b[K     |██████                          | 307 kB 22.5 MB/s eta 0:00:01\r",
      "\u001b[K     |██████▏                         | 317 kB 22.5 MB/s eta 0:00:01\r",
      "\u001b[K     |██████▎                         | 327 kB 22.5 MB/s eta 0:00:01\r",
      "\u001b[K     |██████▌                         | 337 kB 22.5 MB/s eta 0:00:01\r",
      "\u001b[K     |██████▊                         | 348 kB 22.5 MB/s eta 0:00:01\r",
      "\u001b[K     |███████                         | 358 kB 22.5 MB/s eta 0:00:01\r",
      "\u001b[K     |███████                         | 368 kB 22.5 MB/s eta 0:00:01\r",
      "\u001b[K     |███████▎                        | 378 kB 22.5 MB/s eta 0:00:01\r",
      "\u001b[K     |███████▌                        | 389 kB 22.5 MB/s eta 0:00:01\r",
      "\u001b[K     |███████▊                        | 399 kB 22.5 MB/s eta 0:00:01\r",
      "\u001b[K     |████████                        | 409 kB 22.5 MB/s eta 0:00:01\r",
      "\u001b[K     |████████                        | 419 kB 22.5 MB/s eta 0:00:01\r",
      "\u001b[K     |████████▎                       | 430 kB 22.5 MB/s eta 0:00:01\r",
      "\u001b[K     |████████▌                       | 440 kB 22.5 MB/s eta 0:00:01\r",
      "\u001b[K     |████████▊                       | 450 kB 22.5 MB/s eta 0:00:01\r",
      "\u001b[K     |████████▉                       | 460 kB 22.5 MB/s eta 0:00:01\r",
      "\u001b[K     |█████████                       | 471 kB 22.5 MB/s eta 0:00:01\r",
      "\u001b[K     |█████████▎                      | 481 kB 22.5 MB/s eta 0:00:01\r",
      "\u001b[K     |█████████▌                      | 491 kB 22.5 MB/s eta 0:00:01\r",
      "\u001b[K     |█████████▊                      | 501 kB 22.5 MB/s eta 0:00:01\r",
      "\u001b[K     |█████████▉                      | 512 kB 22.5 MB/s eta 0:00:01\r",
      "\u001b[K     |██████████                      | 522 kB 22.5 MB/s eta 0:00:01\r",
      "\u001b[K     |██████████▎                     | 532 kB 22.5 MB/s eta 0:00:01\r",
      "\u001b[K     |██████████▌                     | 542 kB 22.5 MB/s eta 0:00:01\r",
      "\u001b[K     |██████████▋                     | 552 kB 22.5 MB/s eta 0:00:01\r",
      "\u001b[K     |██████████▉                     | 563 kB 22.5 MB/s eta 0:00:01\r",
      "\u001b[K     |███████████                     | 573 kB 22.5 MB/s eta 0:00:01\r",
      "\u001b[K     |███████████▎                    | 583 kB 22.5 MB/s eta 0:00:01\r",
      "\u001b[K     |███████████▍                    | 593 kB 22.5 MB/s eta 0:00:01\r",
      "\u001b[K     |███████████▋                    | 604 kB 22.5 MB/s eta 0:00:01\r",
      "\u001b[K     |███████████▉                    | 614 kB 22.5 MB/s eta 0:00:01\r",
      "\u001b[K     |████████████                    | 624 kB 22.5 MB/s eta 0:00:01\r",
      "\u001b[K     |████████████▎                   | 634 kB 22.5 MB/s eta 0:00:01\r",
      "\u001b[K     |████████████▍                   | 645 kB 22.5 MB/s eta 0:00:01\r",
      "\u001b[K     |████████████▋                   | 655 kB 22.5 MB/s eta 0:00:01\r",
      "\u001b[K     |████████████▉                   | 665 kB 22.5 MB/s eta 0:00:01\r",
      "\u001b[K     |█████████████                   | 675 kB 22.5 MB/s eta 0:00:01\r",
      "\u001b[K     |█████████████▏                  | 686 kB 22.5 MB/s eta 0:00:01\r",
      "\u001b[K     |█████████████▍                  | 696 kB 22.5 MB/s eta 0:00:01"
     ]
    },
    {
     "name": "stdout",
     "output_type": "stream",
     "text": [
      "\r",
      "\u001b[K     |█████████████▋                  | 706 kB 22.5 MB/s eta 0:00:01\r",
      "\u001b[K     |█████████████▉                  | 716 kB 22.5 MB/s eta 0:00:01\r",
      "\u001b[K     |██████████████                  | 727 kB 22.5 MB/s eta 0:00:01\r",
      "\u001b[K     |██████████████▏                 | 737 kB 22.5 MB/s eta 0:00:01\r",
      "\u001b[K     |██████████████▍                 | 747 kB 22.5 MB/s eta 0:00:01\r",
      "\u001b[K     |██████████████▋                 | 757 kB 22.5 MB/s eta 0:00:01\r",
      "\u001b[K     |██████████████▉                 | 768 kB 22.5 MB/s eta 0:00:01\r",
      "\u001b[K     |███████████████                 | 778 kB 22.5 MB/s eta 0:00:01\r",
      "\u001b[K     |███████████████▏                | 788 kB 22.5 MB/s eta 0:00:01\r",
      "\u001b[K     |███████████████▍                | 798 kB 22.5 MB/s eta 0:00:01\r",
      "\u001b[K     |███████████████▋                | 808 kB 22.5 MB/s eta 0:00:01\r",
      "\u001b[K     |███████████████▉                | 819 kB 22.5 MB/s eta 0:00:01\r",
      "\u001b[K     |████████████████                | 829 kB 22.5 MB/s eta 0:00:01\r",
      "\u001b[K     |████████████████▏               | 839 kB 22.5 MB/s eta 0:00:01\r",
      "\u001b[K     |████████████████▍               | 849 kB 22.5 MB/s eta 0:00:01\r",
      "\u001b[K     |████████████████▋               | 860 kB 22.5 MB/s eta 0:00:01\r",
      "\u001b[K     |████████████████▊               | 870 kB 22.5 MB/s eta 0:00:01\r",
      "\u001b[K     |█████████████████               | 880 kB 22.5 MB/s eta 0:00:01\r",
      "\u001b[K     |█████████████████▏              | 890 kB 22.5 MB/s eta 0:00:01\r",
      "\u001b[K     |█████████████████▍              | 901 kB 22.5 MB/s eta 0:00:01\r",
      "\u001b[K     |█████████████████▋              | 911 kB 22.5 MB/s eta 0:00:01\r",
      "\u001b[K     |█████████████████▊              | 921 kB 22.5 MB/s eta 0:00:01\r",
      "\u001b[K     |██████████████████              | 931 kB 22.5 MB/s eta 0:00:01\r",
      "\u001b[K     |██████████████████▏             | 942 kB 22.5 MB/s eta 0:00:01\r",
      "\u001b[K     |██████████████████▍             | 952 kB 22.5 MB/s eta 0:00:01\r",
      "\u001b[K     |██████████████████▌             | 962 kB 22.5 MB/s eta 0:00:01\r",
      "\u001b[K     |██████████████████▊             | 972 kB 22.5 MB/s eta 0:00:01\r",
      "\u001b[K     |███████████████████             | 983 kB 22.5 MB/s eta 0:00:01\r",
      "\u001b[K     |███████████████████▏            | 993 kB 22.5 MB/s eta 0:00:01\r",
      "\u001b[K     |███████████████████▍            | 1.0 MB 22.5 MB/s eta 0:00:01\r",
      "\u001b[K     |███████████████████▌            | 1.0 MB 22.5 MB/s eta 0:00:01\r",
      "\u001b[K     |███████████████████▊            | 1.0 MB 22.5 MB/s eta 0:00:01\r",
      "\u001b[K     |████████████████████            | 1.0 MB 22.5 MB/s eta 0:00:01\r",
      "\u001b[K     |████████████████████▏           | 1.0 MB 22.5 MB/s eta 0:00:01\r",
      "\u001b[K     |████████████████████▎           | 1.1 MB 22.5 MB/s eta 0:00:01\r",
      "\u001b[K     |████████████████████▌           | 1.1 MB 22.5 MB/s eta 0:00:01\r",
      "\u001b[K     |████████████████████▊           | 1.1 MB 22.5 MB/s eta 0:00:01\r",
      "\u001b[K     |█████████████████████           | 1.1 MB 22.5 MB/s eta 0:00:01\r",
      "\u001b[K     |█████████████████████           | 1.1 MB 22.5 MB/s eta 0:00:01\r",
      "\u001b[K     |█████████████████████▎          | 1.1 MB 22.5 MB/s eta 0:00:01\r",
      "\u001b[K     |█████████████████████▌          | 1.1 MB 22.5 MB/s eta 0:00:01\r",
      "\u001b[K     |█████████████████████▊          | 1.1 MB 22.5 MB/s eta 0:00:01\r",
      "\u001b[K     |██████████████████████          | 1.1 MB 22.5 MB/s eta 0:00:01\r",
      "\u001b[K     |██████████████████████          | 1.1 MB 22.5 MB/s eta 0:00:01\r",
      "\u001b[K     |██████████████████████▎         | 1.2 MB 22.5 MB/s eta 0:00:01\r",
      "\u001b[K     |██████████████████████▌         | 1.2 MB 22.5 MB/s eta 0:00:01\r",
      "\u001b[K     |██████████████████████▊         | 1.2 MB 22.5 MB/s eta 0:00:01\r",
      "\u001b[K     |██████████████████████▉         | 1.2 MB 22.5 MB/s eta 0:00:01\r",
      "\u001b[K     |███████████████████████         | 1.2 MB 22.5 MB/s eta 0:00:01\r",
      "\u001b[K     |███████████████████████▎        | 1.2 MB 22.5 MB/s eta 0:00:01\r",
      "\u001b[K     |███████████████████████▌        | 1.2 MB 22.5 MB/s eta 0:00:01\r",
      "\u001b[K     |███████████████████████▊        | 1.2 MB 22.5 MB/s eta 0:00:01\r",
      "\u001b[K     |███████████████████████▉        | 1.2 MB 22.5 MB/s eta 0:00:01\r",
      "\u001b[K     |████████████████████████        | 1.2 MB 22.5 MB/s eta 0:00:01\r",
      "\u001b[K     |████████████████████████▎       | 1.3 MB 22.5 MB/s eta 0:00:01\r",
      "\u001b[K     |████████████████████████▌       | 1.3 MB 22.5 MB/s eta 0:00:01\r",
      "\u001b[K     |████████████████████████▋       | 1.3 MB 22.5 MB/s eta 0:00:01\r",
      "\u001b[K     |████████████████████████▉       | 1.3 MB 22.5 MB/s eta 0:00:01\r",
      "\u001b[K     |█████████████████████████       | 1.3 MB 22.5 MB/s eta 0:00:01\r",
      "\u001b[K     |█████████████████████████▎      | 1.3 MB 22.5 MB/s eta 0:00:01\r",
      "\u001b[K     |█████████████████████████▌      | 1.3 MB 22.5 MB/s eta 0:00:01\r",
      "\u001b[K     |█████████████████████████▋      | 1.3 MB 22.5 MB/s eta 0:00:01\r",
      "\u001b[K     |█████████████████████████▉      | 1.3 MB 22.5 MB/s eta 0:00:01\r",
      "\u001b[K     |██████████████████████████      | 1.4 MB 22.5 MB/s eta 0:00:01\r",
      "\u001b[K     |██████████████████████████▎     | 1.4 MB 22.5 MB/s eta 0:00:01\r",
      "\u001b[K     |██████████████████████████▍     | 1.4 MB 22.5 MB/s eta 0:00:01\r",
      "\u001b[K     |██████████████████████████▋     | 1.4 MB 22.5 MB/s eta 0:00:01\r",
      "\u001b[K     |██████████████████████████▉     | 1.4 MB 22.5 MB/s eta 0:00:01\r",
      "\u001b[K     |███████████████████████████     | 1.4 MB 22.5 MB/s eta 0:00:01\r",
      "\u001b[K     |███████████████████████████▎    | 1.4 MB 22.5 MB/s eta 0:00:01\r",
      "\u001b[K     |███████████████████████████▍    | 1.4 MB 22.5 MB/s eta 0:00:01\r",
      "\u001b[K     |███████████████████████████▋    | 1.4 MB 22.5 MB/s eta 0:00:01\r",
      "\u001b[K     |███████████████████████████▉    | 1.4 MB 22.5 MB/s eta 0:00:01\r",
      "\u001b[K     |████████████████████████████    | 1.5 MB 22.5 MB/s eta 0:00:01\r",
      "\u001b[K     |████████████████████████████▏   | 1.5 MB 22.5 MB/s eta 0:00:01\r",
      "\u001b[K     |████████████████████████████▍   | 1.5 MB 22.5 MB/s eta 0:00:01\r",
      "\u001b[K     |████████████████████████████▋   | 1.5 MB 22.5 MB/s eta 0:00:01\r",
      "\u001b[K     |████████████████████████████▉   | 1.5 MB 22.5 MB/s eta 0:00:01\r",
      "\u001b[K     |█████████████████████████████   | 1.5 MB 22.5 MB/s eta 0:00:01\r",
      "\u001b[K     |█████████████████████████████▏  | 1.5 MB 22.5 MB/s eta 0:00:01\r",
      "\u001b[K     |█████████████████████████████▍  | 1.5 MB 22.5 MB/s eta 0:00:01\r",
      "\u001b[K     |█████████████████████████████▋  | 1.5 MB 22.5 MB/s eta 0:00:01\r",
      "\u001b[K     |█████████████████████████████▉  | 1.5 MB 22.5 MB/s eta 0:00:01\r",
      "\u001b[K     |██████████████████████████████  | 1.6 MB 22.5 MB/s eta 0:00:01\r",
      "\u001b[K     |██████████████████████████████▏ | 1.6 MB 22.5 MB/s eta 0:00:01\r",
      "\u001b[K     |██████████████████████████████▍ | 1.6 MB 22.5 MB/s eta 0:00:01\r",
      "\u001b[K     |██████████████████████████████▋ | 1.6 MB 22.5 MB/s eta 0:00:01\r",
      "\u001b[K     |██████████████████████████████▉ | 1.6 MB 22.5 MB/s eta 0:00:01\r",
      "\u001b[K     |███████████████████████████████ | 1.6 MB 22.5 MB/s eta 0:00:01\r",
      "\u001b[K     |███████████████████████████████▏| 1.6 MB 22.5 MB/s eta 0:00:01\r",
      "\u001b[K     |███████████████████████████████▍| 1.6 MB 22.5 MB/s eta 0:00:01\r",
      "\u001b[K     |███████████████████████████████▋| 1.6 MB 22.5 MB/s eta 0:00:01\r",
      "\u001b[K     |███████████████████████████████▊| 1.6 MB 22.5 MB/s eta 0:00:01\r",
      "\u001b[K     |████████████████████████████████| 1.7 MB 22.5 MB/s eta 0:00:01\r",
      "\u001b[K     |████████████████████████████████| 1.7 MB 22.5 MB/s \r\n"
     ]
    },
    {
     "name": "stdout",
     "output_type": "stream",
     "text": [
      "\u001b[?25hRequirement already satisfied: traitlets<6,>=5.0.3 in /opt/conda/lib/python3.7/site-packages (from voila) (5.1.0)\r\n"
     ]
    },
    {
     "name": "stdout",
     "output_type": "stream",
     "text": [
      "Collecting nbconvert<7,>=6.0.0\r\n",
      "  Downloading nbconvert-6.4.2-py3-none-any.whl (558 kB)\r\n",
      "\u001b[?25l"
     ]
    },
    {
     "name": "stdout",
     "output_type": "stream",
     "text": [
      "\r",
      "\u001b[K     |▋                               | 10 kB 29.8 MB/s eta 0:00:01\r",
      "\u001b[K     |█▏                              | 20 kB 38.5 MB/s eta 0:00:01\r",
      "\u001b[K     |█▊                              | 30 kB 46.9 MB/s eta 0:00:01\r",
      "\u001b[K     |██▍                             | 40 kB 46.6 MB/s eta 0:00:01\r",
      "\u001b[K     |███                             | 51 kB 44.3 MB/s eta 0:00:01\r",
      "\u001b[K     |███▌                            | 61 kB 44.3 MB/s eta 0:00:01\r",
      "\u001b[K     |████                            | 71 kB 44.2 MB/s eta 0:00:01\r",
      "\u001b[K     |████▊                           | 81 kB 47.1 MB/s eta 0:00:01\r",
      "\u001b[K     |█████▎                          | 92 kB 48.6 MB/s eta 0:00:01\r",
      "\u001b[K     |█████▉                          | 102 kB 50.5 MB/s eta 0:00:01\r",
      "\u001b[K     |██████▌                         | 112 kB 50.5 MB/s eta 0:00:01\r",
      "\u001b[K     |███████                         | 122 kB 50.5 MB/s eta 0:00:01\r",
      "\u001b[K     |███████▋                        | 133 kB 50.5 MB/s eta 0:00:01\r",
      "\u001b[K     |████████▏                       | 143 kB 50.5 MB/s eta 0:00:01\r",
      "\u001b[K     |████████▉                       | 153 kB 50.5 MB/s eta 0:00:01\r",
      "\u001b[K     |█████████▍                      | 163 kB 50.5 MB/s eta 0:00:01\r",
      "\u001b[K     |██████████                      | 174 kB 50.5 MB/s eta 0:00:01\r",
      "\u001b[K     |██████████▌                     | 184 kB 50.5 MB/s eta 0:00:01\r",
      "\u001b[K     |███████████▏                    | 194 kB 50.5 MB/s eta 0:00:01\r",
      "\u001b[K     |███████████▊                    | 204 kB 50.5 MB/s eta 0:00:01\r",
      "\u001b[K     |████████████▎                   | 215 kB 50.5 MB/s eta 0:00:01\r",
      "\u001b[K     |█████████████                   | 225 kB 50.5 MB/s eta 0:00:01\r",
      "\u001b[K     |█████████████▌                  | 235 kB 50.5 MB/s eta 0:00:01\r",
      "\u001b[K     |██████████████                  | 245 kB 50.5 MB/s eta 0:00:01\r",
      "\u001b[K     |██████████████▋                 | 256 kB 50.5 MB/s eta 0:00:01\r",
      "\u001b[K     |███████████████▎                | 266 kB 50.5 MB/s eta 0:00:01\r",
      "\u001b[K     |███████████████▉                | 276 kB 50.5 MB/s eta 0:00:01\r",
      "\u001b[K     |████████████████▍               | 286 kB 50.5 MB/s eta 0:00:01\r",
      "\u001b[K     |█████████████████               | 296 kB 50.5 MB/s eta 0:00:01\r",
      "\u001b[K     |█████████████████▋              | 307 kB 50.5 MB/s eta 0:00:01\r",
      "\u001b[K     |██████████████████▏             | 317 kB 50.5 MB/s eta 0:00:01\r",
      "\u001b[K     |██████████████████▊             | 327 kB 50.5 MB/s eta 0:00:01\r",
      "\u001b[K     |███████████████████▍            | 337 kB 50.5 MB/s eta 0:00:01\r",
      "\u001b[K     |████████████████████            | 348 kB 50.5 MB/s eta 0:00:01\r",
      "\u001b[K     |████████████████████▌           | 358 kB 50.5 MB/s eta 0:00:01\r",
      "\u001b[K     |█████████████████████           | 368 kB 50.5 MB/s eta 0:00:01\r",
      "\u001b[K     |█████████████████████▊          | 378 kB 50.5 MB/s eta 0:00:01\r",
      "\u001b[K     |██████████████████████▎         | 389 kB 50.5 MB/s eta 0:00:01\r",
      "\u001b[K     |██████████████████████▉         | 399 kB 50.5 MB/s eta 0:00:01\r",
      "\u001b[K     |███████████████████████▌        | 409 kB 50.5 MB/s eta 0:00:01\r",
      "\u001b[K     |████████████████████████        | 419 kB 50.5 MB/s eta 0:00:01\r",
      "\u001b[K     |████████████████████████▋       | 430 kB 50.5 MB/s eta 0:00:01\r",
      "\u001b[K     |█████████████████████████▏      | 440 kB 50.5 MB/s eta 0:00:01\r",
      "\u001b[K     |█████████████████████████▉      | 450 kB 50.5 MB/s eta 0:00:01\r",
      "\u001b[K     |██████████████████████████▍     | 460 kB 50.5 MB/s eta 0:00:01\r",
      "\u001b[K     |███████████████████████████     | 471 kB 50.5 MB/s eta 0:00:01\r",
      "\u001b[K     |███████████████████████████▋    | 481 kB 50.5 MB/s eta 0:00:01\r",
      "\u001b[K     |████████████████████████████▏   | 491 kB 50.5 MB/s eta 0:00:01\r",
      "\u001b[K     |████████████████████████████▊   | 501 kB 50.5 MB/s eta 0:00:01\r",
      "\u001b[K     |█████████████████████████████▎  | 512 kB 50.5 MB/s eta 0:00:01\r",
      "\u001b[K     |██████████████████████████████  | 522 kB 50.5 MB/s eta 0:00:01\r",
      "\u001b[K     |██████████████████████████████▌ | 532 kB 50.5 MB/s eta 0:00:01\r",
      "\u001b[K     |███████████████████████████████ | 542 kB 50.5 MB/s eta 0:00:01\r",
      "\u001b[K     |███████████████████████████████▋| 552 kB 50.5 MB/s eta 0:00:01\r",
      "\u001b[K     |████████████████████████████████| 558 kB 50.5 MB/s \r\n"
     ]
    },
    {
     "name": "stdout",
     "output_type": "stream",
     "text": [
      "\u001b[?25hCollecting nbclient<0.6,>=0.4.0\r\n",
      "  Downloading nbclient-0.5.10-py3-none-any.whl (69 kB)\r\n",
      "\u001b[?25l\r",
      "\u001b[K     |████▊                           | 10 kB 27.9 MB/s eta 0:00:01\r",
      "\u001b[K     |█████████▍                      | 20 kB 33.3 MB/s eta 0:00:01\r",
      "\u001b[K     |██████████████                  | 30 kB 41.4 MB/s eta 0:00:01\r",
      "\u001b[K     |██████████████████▊             | 40 kB 47.3 MB/s eta 0:00:01\r",
      "\u001b[K     |███████████████████████▍        | 51 kB 51.7 MB/s eta 0:00:01\r",
      "\u001b[K     |████████████████████████████▏   | 61 kB 56.0 MB/s eta 0:00:01\r",
      "\u001b[K     |████████████████████████████████| 69 kB 15.2 MB/s \r\n"
     ]
    },
    {
     "name": "stdout",
     "output_type": "stream",
     "text": [
      "\u001b[?25hCollecting jupyter-server<2.0.0,>=0.3.0\r\n",
      "  Downloading jupyter_server-1.13.5-py3-none-any.whl (397 kB)\r\n",
      "\u001b[?25l\r",
      "\u001b[K     |▉                               | 10 kB 22.0 MB/s eta 0:00:01\r",
      "\u001b[K     |█▋                              | 20 kB 23.6 MB/s eta 0:00:01\r",
      "\u001b[K     |██▌                             | 30 kB 28.0 MB/s eta 0:00:01\r",
      "\u001b[K     |███▎                            | 40 kB 30.1 MB/s eta 0:00:01\r",
      "\u001b[K     |████▏                           | 51 kB 31.7 MB/s eta 0:00:01\r",
      "\u001b[K     |█████                           | 61 kB 33.2 MB/s eta 0:00:01\r",
      "\u001b[K     |█████▊                          | 71 kB 34.5 MB/s eta 0:00:01\r",
      "\u001b[K     |██████▋                         | 81 kB 34.4 MB/s eta 0:00:01\r",
      "\u001b[K     |███████▍                        | 92 kB 34.0 MB/s eta 0:00:01\r",
      "\u001b[K     |████████▎                       | 102 kB 33.7 MB/s eta 0:00:01\r",
      "\u001b[K     |█████████                       | 112 kB 33.7 MB/s eta 0:00:01\r",
      "\u001b[K     |██████████                      | 122 kB 33.7 MB/s eta 0:00:01\r",
      "\u001b[K     |██████████▊                     | 133 kB 33.7 MB/s eta 0:00:01\r",
      "\u001b[K     |███████████▌                    | 143 kB 33.7 MB/s eta 0:00:01\r",
      "\u001b[K     |████████████▍                   | 153 kB 33.7 MB/s eta 0:00:01\r",
      "\u001b[K     |█████████████▏                  | 163 kB 33.7 MB/s eta 0:00:01\r",
      "\u001b[K     |██████████████                  | 174 kB 33.7 MB/s eta 0:00:01\r",
      "\u001b[K     |██████████████▉                 | 184 kB 33.7 MB/s eta 0:00:01\r",
      "\u001b[K     |███████████████▋                | 194 kB 33.7 MB/s eta 0:00:01\r",
      "\u001b[K     |████████████████▌               | 204 kB 33.7 MB/s eta 0:00:01\r",
      "\u001b[K     |█████████████████▎              | 215 kB 33.7 MB/s eta 0:00:01\r",
      "\u001b[K     |██████████████████▏             | 225 kB 33.7 MB/s eta 0:00:01\r",
      "\u001b[K     |███████████████████             | 235 kB 33.7 MB/s eta 0:00:01\r",
      "\u001b[K     |███████████████████▉            | 245 kB 33.7 MB/s eta 0:00:01\r",
      "\u001b[K     |████████████████████▋           | 256 kB 33.7 MB/s eta 0:00:01\r",
      "\u001b[K     |█████████████████████▍          | 266 kB 33.7 MB/s eta 0:00:01\r",
      "\u001b[K     |██████████████████████▎         | 276 kB 33.7 MB/s eta 0:00:01\r",
      "\u001b[K     |███████████████████████         | 286 kB 33.7 MB/s eta 0:00:01\r",
      "\u001b[K     |████████████████████████        | 296 kB 33.7 MB/s eta 0:00:01\r",
      "\u001b[K     |████████████████████████▊       | 307 kB 33.7 MB/s eta 0:00:01\r",
      "\u001b[K     |█████████████████████████▋      | 317 kB 33.7 MB/s eta 0:00:01\r",
      "\u001b[K     |██████████████████████████▍     | 327 kB 33.7 MB/s eta 0:00:01\r",
      "\u001b[K     |███████████████████████████▏    | 337 kB 33.7 MB/s eta 0:00:01\r",
      "\u001b[K     |████████████████████████████    | 348 kB 33.7 MB/s eta 0:00:01\r",
      "\u001b[K     |████████████████████████████▉   | 358 kB 33.7 MB/s eta 0:00:01\r",
      "\u001b[K     |█████████████████████████████▊  | 368 kB 33.7 MB/s eta 0:00:01\r",
      "\u001b[K     |██████████████████████████████▌ | 378 kB 33.7 MB/s eta 0:00:01\r",
      "\u001b[K     |███████████████████████████████▎| 389 kB 33.7 MB/s eta 0:00:01\r",
      "\u001b[K     |████████████████████████████████| 397 kB 33.7 MB/s \r\n"
     ]
    },
    {
     "name": "stdout",
     "output_type": "stream",
     "text": [
      "\u001b[?25hCollecting websockets>=9.0\r\n",
      "  Downloading websockets-10.1-cp37-cp37m-manylinux_2_5_x86_64.manylinux1_x86_64.manylinux_2_12_x86_64.manylinux2010_x86_64.whl (111 kB)\r\n",
      "\u001b[?25l\r",
      "\u001b[K     |███                             | 10 kB 18.1 MB/s eta 0:00:01\r",
      "\u001b[K     |██████                          | 20 kB 25.2 MB/s eta 0:00:01\r",
      "\u001b[K     |████████▉                       | 30 kB 29.5 MB/s eta 0:00:01\r",
      "\u001b[K     |███████████▉                    | 40 kB 29.7 MB/s eta 0:00:01\r",
      "\u001b[K     |██████████████▊                 | 51 kB 31.2 MB/s eta 0:00:01\r",
      "\u001b[K     |█████████████████▊              | 61 kB 33.3 MB/s eta 0:00:01\r",
      "\u001b[K     |████████████████████▋           | 71 kB 34.8 MB/s eta 0:00:01\r",
      "\u001b[K     |███████████████████████▋        | 81 kB 35.9 MB/s eta 0:00:01\r",
      "\u001b[K     |██████████████████████████▌     | 92 kB 35.6 MB/s eta 0:00:01\r",
      "\u001b[K     |█████████████████████████████▌  | 102 kB 36.7 MB/s eta 0:00:01\r",
      "\u001b[K     |████████████████████████████████| 111 kB 36.7 MB/s \r\n",
      "\u001b[?25hRequirement already satisfied: jupyter-client<8,>=6.1.3 in /opt/conda/lib/python3.7/site-packages (from voila) (6.1.12)\r\n",
      "Requirement already satisfied: tornado>=4.1 in /opt/conda/lib/python3.7/site-packages (from jupyter-client<8,>=6.1.3->voila) (6.1)\r\n",
      "Requirement already satisfied: pyzmq>=13 in /opt/conda/lib/python3.7/site-packages (from jupyter-client<8,>=6.1.3->voila) (22.3.0)\r\n"
     ]
    },
    {
     "name": "stdout",
     "output_type": "stream",
     "text": [
      "Requirement already satisfied: python-dateutil>=2.1 in /opt/conda/lib/python3.7/site-packages (from jupyter-client<8,>=6.1.3->voila) (2.8.2)\r\n",
      "Requirement already satisfied: jupyter-core>=4.6.0 in /opt/conda/lib/python3.7/site-packages (from jupyter-client<8,>=6.1.3->voila) (4.9.1)\r\n",
      "Requirement already satisfied: Send2Trash in /opt/conda/lib/python3.7/site-packages (from jupyter-server<2.0.0,>=0.3.0->voila) (1.8.0)\r\n",
      "Requirement already satisfied: terminado>=0.8.3 in /opt/conda/lib/python3.7/site-packages (from jupyter-server<2.0.0,>=0.3.0->voila) (0.12.1)\r\n",
      "Requirement already satisfied: websocket-client in /opt/conda/lib/python3.7/site-packages (from jupyter-server<2.0.0,>=0.3.0->voila) (1.2.1)\r\n",
      "Requirement already satisfied: nbformat in /opt/conda/lib/python3.7/site-packages (from jupyter-server<2.0.0,>=0.3.0->voila) (5.1.3)\r\n",
      "Requirement already satisfied: prometheus-client in /opt/conda/lib/python3.7/site-packages (from jupyter-server<2.0.0,>=0.3.0->voila) (0.12.0)\r\n",
      "Requirement already satisfied: packaging in /opt/conda/lib/python3.7/site-packages (from jupyter-server<2.0.0,>=0.3.0->voila) (21.2)\r\n"
     ]
    },
    {
     "name": "stdout",
     "output_type": "stream",
     "text": [
      "Collecting anyio<4,>=3.1.0\r\n",
      "  Downloading anyio-3.5.0-py3-none-any.whl (79 kB)\r\n",
      "\u001b[?25l\r",
      "\u001b[K     |████▏                           | 10 kB 21.8 MB/s eta 0:00:01\r",
      "\u001b[K     |████████▎                       | 20 kB 28.0 MB/s eta 0:00:01\r",
      "\u001b[K     |████████████▍                   | 30 kB 31.3 MB/s eta 0:00:01\r",
      "\u001b[K     |████████████████▌               | 40 kB 34.5 MB/s eta 0:00:01\r",
      "\u001b[K     |████████████████████▊           | 51 kB 36.2 MB/s eta 0:00:01\r",
      "\u001b[K     |████████████████████████▉       | 61 kB 37.4 MB/s eta 0:00:01\r",
      "\u001b[K     |█████████████████████████████   | 71 kB 38.8 MB/s eta 0:00:01"
     ]
    },
    {
     "name": "stdout",
     "output_type": "stream",
     "text": [
      "\r",
      "\u001b[K     |████████████████████████████████| 79 kB 13.3 MB/s \r\n",
      "\u001b[?25hRequirement already satisfied: argon2-cffi in /opt/conda/lib/python3.7/site-packages (from jupyter-server<2.0.0,>=0.3.0->voila) (21.1.0)\r\n",
      "Requirement already satisfied: jinja2 in /opt/conda/lib/python3.7/site-packages (from jupyter-server<2.0.0,>=0.3.0->voila) (2.11.3)\r\n",
      "Requirement already satisfied: ipython-genutils in /opt/conda/lib/python3.7/site-packages (from jupyter-server<2.0.0,>=0.3.0->voila) (0.2.0)\r\n",
      "Requirement already satisfied: typing-extensions in /opt/conda/lib/python3.7/site-packages (from anyio<4,>=3.1.0->jupyter-server<2.0.0,>=0.3.0->voila) (3.10.0.2)\r\n",
      "Requirement already satisfied: idna>=2.8 in /opt/conda/lib/python3.7/site-packages (from anyio<4,>=3.1.0->jupyter-server<2.0.0,>=0.3.0->voila) (2.10)\r\n"
     ]
    },
    {
     "name": "stdout",
     "output_type": "stream",
     "text": [
      "Collecting sniffio>=1.1\r\n",
      "  Downloading sniffio-1.2.0-py3-none-any.whl (10 kB)\r\n"
     ]
    },
    {
     "name": "stdout",
     "output_type": "stream",
     "text": [
      "Collecting nest-asyncio\r\n",
      "  Downloading nest_asyncio-1.5.4-py3-none-any.whl (5.1 kB)\r\n",
      "Requirement already satisfied: bleach in /opt/conda/lib/python3.7/site-packages (from nbconvert<7,>=6.0.0->voila) (4.1.0)\r\n"
     ]
    },
    {
     "name": "stdout",
     "output_type": "stream",
     "text": [
      "Requirement already satisfied: entrypoints>=0.2.2 in /opt/conda/lib/python3.7/site-packages (from nbconvert<7,>=6.0.0->voila) (0.3)\r\n",
      "Requirement already satisfied: pandocfilters>=1.4.1 in /opt/conda/lib/python3.7/site-packages (from nbconvert<7,>=6.0.0->voila) (1.5.0)\r\n",
      "Requirement already satisfied: testpath in /opt/conda/lib/python3.7/site-packages (from nbconvert<7,>=6.0.0->voila) (0.5.0)\r\n",
      "Requirement already satisfied: defusedxml in /opt/conda/lib/python3.7/site-packages (from nbconvert<7,>=6.0.0->voila) (0.7.1)\r\n",
      "Collecting jupyterlab-pygments\r\n",
      "  Downloading jupyterlab_pygments-0.1.2-py2.py3-none-any.whl (4.6 kB)\r\n",
      "Requirement already satisfied: mistune<2,>=0.8.1 in /opt/conda/lib/python3.7/site-packages (from nbconvert<7,>=6.0.0->voila) (0.8.4)\r\n",
      "Requirement already satisfied: pygments>=2.4.1 in /opt/conda/lib/python3.7/site-packages (from nbconvert<7,>=6.0.0->voila) (2.10.0)\r\n"
     ]
    },
    {
     "name": "stdout",
     "output_type": "stream",
     "text": [
      "Requirement already satisfied: MarkupSafe>=0.23 in /opt/conda/lib/python3.7/site-packages (from jinja2->jupyter-server<2.0.0,>=0.3.0->voila) (2.0.1)\r\n",
      "Requirement already satisfied: jsonschema!=2.5.0,>=2.4 in /opt/conda/lib/python3.7/site-packages (from nbformat->jupyter-server<2.0.0,>=0.3.0->voila) (3.2.0)\r\n",
      "Requirement already satisfied: importlib-metadata in /opt/conda/lib/python3.7/site-packages (from jsonschema!=2.5.0,>=2.4->nbformat->jupyter-server<2.0.0,>=0.3.0->voila) (4.8.2)\r\n",
      "Requirement already satisfied: pyrsistent>=0.14.0 in /opt/conda/lib/python3.7/site-packages (from jsonschema!=2.5.0,>=2.4->nbformat->jupyter-server<2.0.0,>=0.3.0->voila) (0.18.0)\r\n",
      "Requirement already satisfied: six>=1.11.0 in /opt/conda/lib/python3.7/site-packages (from jsonschema!=2.5.0,>=2.4->nbformat->jupyter-server<2.0.0,>=0.3.0->voila) (1.16.0)\r\n",
      "Requirement already satisfied: setuptools in /opt/conda/lib/python3.7/site-packages (from jsonschema!=2.5.0,>=2.4->nbformat->jupyter-server<2.0.0,>=0.3.0->voila) (58.0.4)\r\n",
      "Requirement already satisfied: attrs>=17.4.0 in /opt/conda/lib/python3.7/site-packages (from jsonschema!=2.5.0,>=2.4->nbformat->jupyter-server<2.0.0,>=0.3.0->voila) (21.2.0)\r\n"
     ]
    },
    {
     "name": "stdout",
     "output_type": "stream",
     "text": [
      "Requirement already satisfied: ptyprocess in /opt/conda/lib/python3.7/site-packages (from terminado>=0.8.3->jupyter-server<2.0.0,>=0.3.0->voila) (0.7.0)\r\n"
     ]
    },
    {
     "name": "stdout",
     "output_type": "stream",
     "text": [
      "Requirement already satisfied: cffi>=1.0.0 in /opt/conda/lib/python3.7/site-packages (from argon2-cffi->jupyter-server<2.0.0,>=0.3.0->voila) (1.14.6)\r\n",
      "Requirement already satisfied: pycparser in /opt/conda/lib/python3.7/site-packages (from cffi>=1.0.0->argon2-cffi->jupyter-server<2.0.0,>=0.3.0->voila) (2.20)\r\n",
      "Requirement already satisfied: webencodings in /opt/conda/lib/python3.7/site-packages (from bleach->nbconvert<7,>=6.0.0->voila) (0.5.1)\r\n"
     ]
    },
    {
     "name": "stdout",
     "output_type": "stream",
     "text": [
      "Requirement already satisfied: zipp>=0.5 in /opt/conda/lib/python3.7/site-packages (from importlib-metadata->jsonschema!=2.5.0,>=2.4->nbformat->jupyter-server<2.0.0,>=0.3.0->voila) (3.6.0)\r\n"
     ]
    },
    {
     "name": "stdout",
     "output_type": "stream",
     "text": [
      "Requirement already satisfied: pyparsing<3,>=2.0.2 in /opt/conda/lib/python3.7/site-packages (from packaging->jupyter-server<2.0.0,>=0.3.0->voila) (2.4.7)\r\n"
     ]
    },
    {
     "name": "stdout",
     "output_type": "stream",
     "text": [
      "Installing collected packages: nest-asyncio, sniffio, nbclient, jupyterlab-pygments, nbconvert, anyio, websockets, jupyter-server, voila\r\n"
     ]
    },
    {
     "name": "stdout",
     "output_type": "stream",
     "text": [
      "  Attempting uninstall: nbconvert\r\n",
      "    Found existing installation: nbconvert 5.6.1\r\n"
     ]
    },
    {
     "name": "stdout",
     "output_type": "stream",
     "text": [
      "    Uninstalling nbconvert-5.6.1:\r\n"
     ]
    },
    {
     "name": "stdout",
     "output_type": "stream",
     "text": [
      "      Successfully uninstalled nbconvert-5.6.1\r\n"
     ]
    },
    {
     "name": "stdout",
     "output_type": "stream",
     "text": [
      "\u001b[31mERROR: pip's dependency resolver does not currently take into account all the packages that are installed. This behaviour is the source of the following dependency conflicts.\r\n",
      "nbdev 1.1.23 requires nbconvert<6, but you have nbconvert 6.4.2 which is incompatible.\u001b[0m\r\n",
      "Successfully installed anyio-3.5.0 jupyter-server-1.13.5 jupyterlab-pygments-0.1.2 nbclient-0.5.10 nbconvert-6.4.2 nest-asyncio-1.5.4 sniffio-1.2.0 voila-0.3.1 websockets-10.1\r\n"
     ]
    },
    {
     "name": "stdout",
     "output_type": "stream",
     "text": [
      "Enabling: voila\r\n",
      "- Writing config: /opt/conda/etc/jupyter\r\n",
      "    - Validating...\r\n"
     ]
    },
    {
     "name": "stdout",
     "output_type": "stream",
     "text": [
      "      voila 0.3.1 \u001b[32mOK\u001b[0m\r\n"
     ]
    }
   ],
   "source": [
    "!pip install voila\n",
    "!jupyter serverextension enable --sys-prefix voila "
   ]
  },
  {
   "cell_type": "code",
   "execution_count": null,
   "id": "7785cbae",
   "metadata": {
    "gradient": {
     "editing": false,
     "id": "7785cbae",
     "kernelId": ""
    }
   },
   "outputs": [],
   "source": [
    "path = Path()\n",
    "learn_inf = load_learner(path/'export.pkl', cpu=True)\n",
    "btn_upload = widgets.FileUpload()\n",
    "out_pl = widgets.Output()\n",
    "lbl_pred = widgets.Label()"
   ]
  },
  {
   "cell_type": "code",
   "execution_count": null,
   "id": "0e6deb54",
   "metadata": {
    "gradient": {
     "editing": false,
     "id": "0e6deb54",
     "kernelId": ""
    }
   },
   "outputs": [],
   "source": [
    "# test def on_click_classify(change):\n",
    "def on_click(change):\n",
    "    img = PILImage.create(btn_upload.data[-1])\n",
    "    out_pl.clear_output()\n",
    "    with out_pl: display(img.to_thumb(128,128))\n",
    "    pred,pred_idx,probs = learn_inf.predict(img)\n",
    "    lbl_pred.value = f'Predição: {pred}; Probabilidade: {probs[pred_idx]:.04f}'\n",
    "\n",
    "#btn_run.on_click(on_click_classify)"
   ]
  },
  {
   "cell_type": "code",
   "execution_count": null,
   "id": "298abd11",
   "metadata": {
    "gradient": {
     "editing": false,
     "id": "298abd11",
     "kernelId": ""
    }
   },
   "outputs": [],
   "source": [
    "#hide\n",
    "#Putting back btn_upload to a widget for next cell\n",
    "# test btn_upload = widgets.FileUpload()"
   ]
  },
  {
   "cell_type": "code",
   "execution_count": null,
   "id": "dc549db6",
   "metadata": {
    "gradient": {
     "editing": false,
     "id": "dc549db6",
     "kernelId": ""
    }
   },
   "outputs": [],
   "source": [
    "btn_upload.observe(on_click, names=['data'])"
   ]
  },
  {
   "cell_type": "code",
   "execution_count": null,
   "id": "d9cfab96",
   "metadata": {
    "gradient": {
     "editing": false,
     "id": "d9cfab96",
     "kernelId": ""
    },
    "scrolled": true
   },
   "outputs": [
    {
     "data": {
      "application/vnd.jupyter.widget-view+json": {
       "model_id": "024052e522df423cbf5048a9ad921e03",
       "version_major": 2,
       "version_minor": 0
      },
      "text/plain": [
       "VBox(children=(Label(value='Selecione seu urso!'), FileUpload(value={}, description='Upload'), Output(), Label…"
      ]
     },
     "metadata": {},
     "output_type": "display_data",
     "transient": {}
    }
   ],
   "source": [
    "#hide_output\n",
    "display(VBox([widgets.Label('Selecione seu urso!'), \n",
    "      btn_upload, out_pl, lbl_pred]))\n",
    "#but_run"
   ]
  },
  {
   "cell_type": "code",
   "execution_count": null,
   "id": "726a6628",
   "metadata": {
    "gradient": {
     "editing": false,
     "id": "726a6628",
     "kernelId": ""
    }
   },
   "outputs": [],
   "source": []
  }
 ],
 "metadata": {
  "kernelspec": {
   "display_name": "Python 3 (ipykernel)",
   "language": "python",
   "name": "python3"
  },
  "language_info": {
   "codemirror_mode": {
    "name": "ipython",
    "version": 3
   },
   "file_extension": ".py",
   "mimetype": "text/x-python",
   "name": "python",
   "nbconvert_exporter": "python",
   "pygments_lexer": "ipython3",
   "version": "3.7.11"
  }
 },
 "nbformat": 4,
 "nbformat_minor": 5
}
